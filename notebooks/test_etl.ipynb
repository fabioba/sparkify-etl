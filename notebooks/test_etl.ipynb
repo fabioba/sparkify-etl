{
 "cells": [
  {
   "cell_type": "code",
   "execution_count": 1,
   "metadata": {
    "editable": true
   },
   "outputs": [
    {
     "data": {
      "text/html": [
       "\n",
       "            <div>\n",
       "                <p><b>SparkSession - in-memory</b></p>\n",
       "                \n",
       "        <div>\n",
       "            <p><b>SparkContext</b></p>\n",
       "\n",
       "            <p><a href=\"http://9ff7307a64da:4040\">Spark UI</a></p>\n",
       "\n",
       "            <dl>\n",
       "              <dt>Version</dt>\n",
       "                <dd><code>v2.4.3</code></dd>\n",
       "              <dt>Master</dt>\n",
       "                <dd><code>local[*]</code></dd>\n",
       "              <dt>AppName</dt>\n",
       "                <dd><code>pyspark-shell</code></dd>\n",
       "            </dl>\n",
       "        </div>\n",
       "        \n",
       "            </div>\n",
       "        "
      ],
      "text/plain": [
       "<pyspark.sql.session.SparkSession at 0x7fe73c004908>"
      ]
     },
     "execution_count": 1,
     "metadata": {},
     "output_type": "execute_result"
    }
   ],
   "source": [
    "from pyspark.sql import SparkSession\n",
    "spark = SparkSession.builder \\\n",
    "    .getOrCreate()\n",
    "spark"
   ]
  },
  {
   "cell_type": "code",
   "execution_count": 2,
   "metadata": {
    "editable": true
   },
   "outputs": [],
   "source": [
    "from datetime import datetime\n",
    "import os\n",
    "from pyspark.sql import SparkSession\n",
    "from pyspark.sql.functions import udf, col\n",
    "from pyspark.sql.functions import year, month, dayofmonth, hour, weekofyear, date_format\n",
    "from pyspark.sql import functions as F\n"
   ]
  },
  {
   "cell_type": "code",
   "execution_count": 3,
   "metadata": {
    "editable": true
   },
   "outputs": [
    {
     "data": {
      "text/plain": [
       "'data/song_data/*/*/*/*.json'"
      ]
     },
     "execution_count": 3,
     "metadata": {},
     "output_type": "execute_result"
    }
   ],
   "source": [
    "song_data_path = os.path.join('data','song_data','*','*','*','*.json')\n",
    "song_data_path"
   ]
  },
  {
   "cell_type": "code",
   "execution_count": 4,
   "metadata": {
    "editable": true
   },
   "outputs": [],
   "source": [
    "df_song = spark.read.json(song_data_path)"
   ]
  },
  {
   "cell_type": "code",
   "execution_count": 5,
   "metadata": {
    "editable": true
   },
   "outputs": [],
   "source": [
    "songs_table = df_song.select(['song_id','title','artist_id','year','duration'])"
   ]
  },
  {
   "cell_type": "code",
   "execution_count": 7,
   "metadata": {
    "editable": true
   },
   "outputs": [
    {
     "data": {
      "text/plain": [
       "[Row(song_id='SOOLYAZ12A6701F4A6', title='Laws Patrolling (Album Version)', artist_id='AREBBGV1187FB523D2', year=0, duration=173.66159),\n",
       " Row(song_id='SOGXHEG12AB018653E', title='It Makes No Difference Now', artist_id='AR0RCMP1187FB3F427', year=1992, duration=133.32853),\n",
       " Row(song_id='SOGOSOV12AF72A285E', title='¿Dónde va Chichi?', artist_id='ARGUVEV1187B98BA17', year=1997, duration=313.12934)]"
      ]
     },
     "execution_count": 7,
     "metadata": {},
     "output_type": "execute_result"
    }
   ],
   "source": [
    "songs_table.take(10)"
   ]
  },
  {
   "cell_type": "code",
   "execution_count": 10,
   "metadata": {
    "editable": true
   },
   "outputs": [],
   "source": [
    "song_table_path = os.path.join('output','songs.parquet')\n",
    "\n",
    "\n",
    "songs_table.write.mode('overwrite').partitionBy(\"year\",\"artist_id\").parquet(song_table_path)"
   ]
  },
  {
   "cell_type": "markdown",
   "metadata": {
    "editable": true
   },
   "source": [
    "## Artist"
   ]
  },
  {
   "cell_type": "code",
   "execution_count": 11,
   "metadata": {
    "editable": true
   },
   "outputs": [],
   "source": [
    "artists_table = df_song.select(['artist_id','artist_name','artist_location','artist_latitude','artist_longitude'])"
   ]
  },
  {
   "cell_type": "code",
   "execution_count": 12,
   "metadata": {
    "editable": true
   },
   "outputs": [],
   "source": [
    "artist_table_path = os.path.join('output','artist.parquet')"
   ]
  },
  {
   "cell_type": "code",
   "execution_count": 14,
   "metadata": {
    "editable": true
   },
   "outputs": [],
   "source": [
    "artists_table.write.mode('overwrite').parquet(artist_table_path)"
   ]
  },
  {
   "cell_type": "markdown",
   "metadata": {
    "editable": true
   },
   "source": [
    "# Log data"
   ]
  },
  {
   "cell_type": "code",
   "execution_count": 15,
   "metadata": {
    "editable": true
   },
   "outputs": [
    {
     "data": {
      "text/plain": [
       "'data/log_data/*.json'"
      ]
     },
     "execution_count": 15,
     "metadata": {},
     "output_type": "execute_result"
    }
   ],
   "source": [
    "log_data_path = os.path.join('data','log_data','*.json')\n",
    "log_data_path"
   ]
  },
  {
   "cell_type": "code",
   "execution_count": 16,
   "metadata": {
    "editable": true
   },
   "outputs": [],
   "source": [
    "df_log = spark.read.json(log_data_path)"
   ]
  },
  {
   "cell_type": "code",
   "execution_count": 17,
   "metadata": {
    "editable": true
   },
   "outputs": [
    {
     "data": {
      "text/plain": [
       "[Row(artist='Mitch Ryder & The Detroit Wheels', auth='Logged In', firstName='Tegan', gender='F', itemInSession=65, lastName='Levine', length=205.03465, level='paid', location='Portland-South Portland, ME', method='PUT', page='NextSong', registration=1540794356796.0, sessionId=992, song='Jenny Take A Ride (LP Version)', status=200, ts=1543363215796, userAgent='\"Mozilla/5.0 (Macintosh; Intel Mac OS X 10_9_4) AppleWebKit/537.36 (KHTML, like Gecko) Chrome/36.0.1985.143 Safari/537.36\"', userId='80'),\n",
       " Row(artist='The Spill Canvas', auth='Logged In', firstName='Tegan', gender='F', itemInSession=66, lastName='Levine', length=358.03383, level='paid', location='Portland-South Portland, ME', method='PUT', page='NextSong', registration=1540794356796.0, sessionId=992, song='The TIde (LP Version)', status=200, ts=1543363420796, userAgent='\"Mozilla/5.0 (Macintosh; Intel Mac OS X 10_9_4) AppleWebKit/537.36 (KHTML, like Gecko) Chrome/36.0.1985.143 Safari/537.36\"', userId='80'),\n",
       " Row(artist='Mogwai', auth='Logged In', firstName='Tegan', gender='F', itemInSession=67, lastName='Levine', length=571.19302, level='paid', location='Portland-South Portland, ME', method='PUT', page='NextSong', registration=1540794356796.0, sessionId=992, song='Two Rights Make One Wrong', status=200, ts=1543363778796, userAgent='\"Mozilla/5.0 (Macintosh; Intel Mac OS X 10_9_4) AppleWebKit/537.36 (KHTML, like Gecko) Chrome/36.0.1985.143 Safari/537.36\"', userId='80')]"
      ]
     },
     "execution_count": 17,
     "metadata": {},
     "output_type": "execute_result"
    }
   ],
   "source": [
    "df_log.take(3)"
   ]
  },
  {
   "cell_type": "markdown",
   "metadata": {
    "editable": true
   },
   "source": [
    "## User"
   ]
  },
  {
   "cell_type": "code",
   "execution_count": 18,
   "metadata": {
    "editable": true
   },
   "outputs": [],
   "source": [
    "df_log_next_song = df_log.filter(df_log.page == 'NextSong')"
   ]
  },
  {
   "cell_type": "code",
   "execution_count": 19,
   "metadata": {
    "editable": true
   },
   "outputs": [
    {
     "data": {
      "text/plain": [
       "[Row(artist='Mitch Ryder & The Detroit Wheels', auth='Logged In', firstName='Tegan', gender='F', itemInSession=65, lastName='Levine', length=205.03465, level='paid', location='Portland-South Portland, ME', method='PUT', page='NextSong', registration=1540794356796.0, sessionId=992, song='Jenny Take A Ride (LP Version)', status=200, ts=1543363215796, userAgent='\"Mozilla/5.0 (Macintosh; Intel Mac OS X 10_9_4) AppleWebKit/537.36 (KHTML, like Gecko) Chrome/36.0.1985.143 Safari/537.36\"', userId='80'),\n",
       " Row(artist='The Spill Canvas', auth='Logged In', firstName='Tegan', gender='F', itemInSession=66, lastName='Levine', length=358.03383, level='paid', location='Portland-South Portland, ME', method='PUT', page='NextSong', registration=1540794356796.0, sessionId=992, song='The TIde (LP Version)', status=200, ts=1543363420796, userAgent='\"Mozilla/5.0 (Macintosh; Intel Mac OS X 10_9_4) AppleWebKit/537.36 (KHTML, like Gecko) Chrome/36.0.1985.143 Safari/537.36\"', userId='80'),\n",
       " Row(artist='Mogwai', auth='Logged In', firstName='Tegan', gender='F', itemInSession=67, lastName='Levine', length=571.19302, level='paid', location='Portland-South Portland, ME', method='PUT', page='NextSong', registration=1540794356796.0, sessionId=992, song='Two Rights Make One Wrong', status=200, ts=1543363778796, userAgent='\"Mozilla/5.0 (Macintosh; Intel Mac OS X 10_9_4) AppleWebKit/537.36 (KHTML, like Gecko) Chrome/36.0.1985.143 Safari/537.36\"', userId='80')]"
      ]
     },
     "execution_count": 19,
     "metadata": {},
     "output_type": "execute_result"
    }
   ],
   "source": [
    "df_log_next_song.take(3)"
   ]
  },
  {
   "cell_type": "code",
   "execution_count": 20,
   "metadata": {
    "editable": true
   },
   "outputs": [],
   "source": [
    "df_users = df_log_next_song.select(['userId','firstName','lastName','gender','level'])"
   ]
  },
  {
   "cell_type": "code",
   "execution_count": 21,
   "metadata": {
    "editable": true
   },
   "outputs": [
    {
     "data": {
      "text/plain": [
       "'output/users.parquet'"
      ]
     },
     "execution_count": 21,
     "metadata": {},
     "output_type": "execute_result"
    }
   ],
   "source": [
    "user_table_path = os.path.join('output','users.parquet')\n",
    "user_table_path"
   ]
  },
  {
   "cell_type": "code",
   "execution_count": 22,
   "metadata": {
    "editable": true
   },
   "outputs": [],
   "source": [
    "df_users.write.mode('overwrite').parquet(user_table_path)"
   ]
  },
  {
   "cell_type": "code",
   "execution_count": 23,
   "metadata": {
    "editable": true
   },
   "outputs": [
    {
     "data": {
      "text/plain": [
       "[Row(artist='Mitch Ryder & The Detroit Wheels', auth='Logged In', firstName='Tegan', gender='F', itemInSession=65, lastName='Levine', length=205.03465, level='paid', location='Portland-South Portland, ME', method='PUT', page='NextSong', registration=1540794356796.0, sessionId=992, song='Jenny Take A Ride (LP Version)', status=200, ts=1543363215796, userAgent='\"Mozilla/5.0 (Macintosh; Intel Mac OS X 10_9_4) AppleWebKit/537.36 (KHTML, like Gecko) Chrome/36.0.1985.143 Safari/537.36\"', userId='80'),\n",
       " Row(artist='The Spill Canvas', auth='Logged In', firstName='Tegan', gender='F', itemInSession=66, lastName='Levine', length=358.03383, level='paid', location='Portland-South Portland, ME', method='PUT', page='NextSong', registration=1540794356796.0, sessionId=992, song='The TIde (LP Version)', status=200, ts=1543363420796, userAgent='\"Mozilla/5.0 (Macintosh; Intel Mac OS X 10_9_4) AppleWebKit/537.36 (KHTML, like Gecko) Chrome/36.0.1985.143 Safari/537.36\"', userId='80'),\n",
       " Row(artist='Mogwai', auth='Logged In', firstName='Tegan', gender='F', itemInSession=67, lastName='Levine', length=571.19302, level='paid', location='Portland-South Portland, ME', method='PUT', page='NextSong', registration=1540794356796.0, sessionId=992, song='Two Rights Make One Wrong', status=200, ts=1543363778796, userAgent='\"Mozilla/5.0 (Macintosh; Intel Mac OS X 10_9_4) AppleWebKit/537.36 (KHTML, like Gecko) Chrome/36.0.1985.143 Safari/537.36\"', userId='80')]"
      ]
     },
     "execution_count": 23,
     "metadata": {},
     "output_type": "execute_result"
    }
   ],
   "source": [
    "df_log_next_song.take(3)"
   ]
  },
  {
   "cell_type": "code",
   "execution_count": 24,
   "metadata": {
    "editable": true
   },
   "outputs": [
    {
     "name": "stdout",
     "output_type": "stream",
     "text": [
      "+------+----+---------+------+-------------+--------+------+-----+--------+------+----+------------+---------+----+------+---+---------+------+\n",
      "|artist|auth|firstName|gender|itemInSession|lastName|length|level|location|method|page|registration|sessionId|song|status| ts|userAgent|userId|\n",
      "+------+----+---------+------+-------------+--------+------+-----+--------+------+----+------------+---------+----+------+---+---------+------+\n",
      "+------+----+---------+------+-------------+--------+------+-----+--------+------+----+------------+---------+----+------+---+---------+------+\n",
      "\n"
     ]
    }
   ],
   "source": [
    "df_log_next_song.where(col(\"ts\").isNull()).show()"
   ]
  },
  {
   "cell_type": "code",
   "execution_count": 25,
   "metadata": {
    "editable": true
   },
   "outputs": [],
   "source": [
    "get_timestamp = udf(lambda x: datetime.fromtimestamp(x / 1000.0))\n",
    "df_log_next_song = df_log_next_song.withColumn(\"ts_timestamp\",get_timestamp(\"ts\"))"
   ]
  },
  {
   "cell_type": "code",
   "execution_count": 26,
   "metadata": {
    "editable": true
   },
   "outputs": [
    {
     "data": {
      "text/plain": [
       "[Row(artist='Mitch Ryder & The Detroit Wheels', auth='Logged In', firstName='Tegan', gender='F', itemInSession=65, lastName='Levine', length=205.03465, level='paid', location='Portland-South Portland, ME', method='PUT', page='NextSong', registration=1540794356796.0, sessionId=992, song='Jenny Take A Ride (LP Version)', status=200, ts=1543363215796, userAgent='\"Mozilla/5.0 (Macintosh; Intel Mac OS X 10_9_4) AppleWebKit/537.36 (KHTML, like Gecko) Chrome/36.0.1985.143 Safari/537.36\"', userId='80', ts_timestamp='java.util.GregorianCalendar[time=?,areFieldsSet=false,areAllFieldsSet=false,lenient=true,zone=sun.util.calendar.ZoneInfo[id=\"Etc/UTC\",offset=0,dstSavings=0,useDaylight=false,transitions=0,lastRule=null],firstDayOfWeek=1,minimalDaysInFirstWeek=1,ERA=?,YEAR=2018,MONTH=10,WEEK_OF_YEAR=?,WEEK_OF_MONTH=?,DAY_OF_MONTH=28,DAY_OF_YEAR=?,DAY_OF_WEEK=?,DAY_OF_WEEK_IN_MONTH=?,AM_PM=0,HOUR=0,HOUR_OF_DAY=0,MINUTE=0,SECOND=15,MILLISECOND=796,ZONE_OFFSET=?,DST_OFFSET=?]'),\n",
       " Row(artist='The Spill Canvas', auth='Logged In', firstName='Tegan', gender='F', itemInSession=66, lastName='Levine', length=358.03383, level='paid', location='Portland-South Portland, ME', method='PUT', page='NextSong', registration=1540794356796.0, sessionId=992, song='The TIde (LP Version)', status=200, ts=1543363420796, userAgent='\"Mozilla/5.0 (Macintosh; Intel Mac OS X 10_9_4) AppleWebKit/537.36 (KHTML, like Gecko) Chrome/36.0.1985.143 Safari/537.36\"', userId='80', ts_timestamp='java.util.GregorianCalendar[time=?,areFieldsSet=false,areAllFieldsSet=false,lenient=true,zone=sun.util.calendar.ZoneInfo[id=\"Etc/UTC\",offset=0,dstSavings=0,useDaylight=false,transitions=0,lastRule=null],firstDayOfWeek=1,minimalDaysInFirstWeek=1,ERA=?,YEAR=2018,MONTH=10,WEEK_OF_YEAR=?,WEEK_OF_MONTH=?,DAY_OF_MONTH=28,DAY_OF_YEAR=?,DAY_OF_WEEK=?,DAY_OF_WEEK_IN_MONTH=?,AM_PM=0,HOUR=0,HOUR_OF_DAY=0,MINUTE=3,SECOND=40,MILLISECOND=796,ZONE_OFFSET=?,DST_OFFSET=?]'),\n",
       " Row(artist='Mogwai', auth='Logged In', firstName='Tegan', gender='F', itemInSession=67, lastName='Levine', length=571.19302, level='paid', location='Portland-South Portland, ME', method='PUT', page='NextSong', registration=1540794356796.0, sessionId=992, song='Two Rights Make One Wrong', status=200, ts=1543363778796, userAgent='\"Mozilla/5.0 (Macintosh; Intel Mac OS X 10_9_4) AppleWebKit/537.36 (KHTML, like Gecko) Chrome/36.0.1985.143 Safari/537.36\"', userId='80', ts_timestamp='java.util.GregorianCalendar[time=?,areFieldsSet=false,areAllFieldsSet=false,lenient=true,zone=sun.util.calendar.ZoneInfo[id=\"Etc/UTC\",offset=0,dstSavings=0,useDaylight=false,transitions=0,lastRule=null],firstDayOfWeek=1,minimalDaysInFirstWeek=1,ERA=?,YEAR=2018,MONTH=10,WEEK_OF_YEAR=?,WEEK_OF_MONTH=?,DAY_OF_MONTH=28,DAY_OF_YEAR=?,DAY_OF_WEEK=?,DAY_OF_WEEK_IN_MONTH=?,AM_PM=0,HOUR=0,HOUR_OF_DAY=0,MINUTE=9,SECOND=38,MILLISECOND=796,ZONE_OFFSET=?,DST_OFFSET=?]')]"
      ]
     },
     "execution_count": 26,
     "metadata": {},
     "output_type": "execute_result"
    }
   ],
   "source": [
    "df_log_next_song.take(3)"
   ]
  },
  {
   "cell_type": "code",
   "execution_count": 27,
   "metadata": {
    "editable": true
   },
   "outputs": [],
   "source": [
    "df_log_next_song = df_log_next_song.withColumn('ts_year',year(df_log_next_song.ts_timestamp))\n",
    "df_log_next_song = df_log_next_song.withColumn('ts_month',month(df_log_next_song.ts_timestamp))\n",
    "df_log_next_song = df_log_next_song.withColumn('ts_day',dayofmonth(df_log_next_song.ts_timestamp))\n",
    "df_log_next_song = df_log_next_song.withColumn('ts_weekofyear',weekofyear(df_log_next_song.ts_timestamp))\n",
    "df_log_next_song = df_log_next_song.withColumn('ts_hour',hour(df_log_next_song.ts_timestamp))\n",
    "df_log_next_song = df_log_next_song.withColumn('ts_weekday',weekofyear(df_log_next_song.ts_timestamp))\n",
    "\n",
    "time_table = df_log_next_song.select(['ts_timestamp','ts_hour','ts_day','ts_weekofyear','ts_month','ts_weekday'])"
   ]
  },
  {
   "cell_type": "code",
   "execution_count": 28,
   "metadata": {
    "editable": true
   },
   "outputs": [
    {
     "data": {
      "text/plain": [
       "[Row(ts_timestamp='java.util.GregorianCalendar[time=?,areFieldsSet=false,areAllFieldsSet=false,lenient=true,zone=sun.util.calendar.ZoneInfo[id=\"Etc/UTC\",offset=0,dstSavings=0,useDaylight=false,transitions=0,lastRule=null],firstDayOfWeek=1,minimalDaysInFirstWeek=1,ERA=?,YEAR=2018,MONTH=10,WEEK_OF_YEAR=?,WEEK_OF_MONTH=?,DAY_OF_MONTH=28,DAY_OF_YEAR=?,DAY_OF_WEEK=?,DAY_OF_WEEK_IN_MONTH=?,AM_PM=0,HOUR=0,HOUR_OF_DAY=0,MINUTE=0,SECOND=15,MILLISECOND=796,ZONE_OFFSET=?,DST_OFFSET=?]', ts_hour=None, ts_day=None, ts_weekofyear=None, ts_month=None, ts_weekday=None),\n",
       " Row(ts_timestamp='java.util.GregorianCalendar[time=?,areFieldsSet=false,areAllFieldsSet=false,lenient=true,zone=sun.util.calendar.ZoneInfo[id=\"Etc/UTC\",offset=0,dstSavings=0,useDaylight=false,transitions=0,lastRule=null],firstDayOfWeek=1,minimalDaysInFirstWeek=1,ERA=?,YEAR=2018,MONTH=10,WEEK_OF_YEAR=?,WEEK_OF_MONTH=?,DAY_OF_MONTH=28,DAY_OF_YEAR=?,DAY_OF_WEEK=?,DAY_OF_WEEK_IN_MONTH=?,AM_PM=0,HOUR=0,HOUR_OF_DAY=0,MINUTE=3,SECOND=40,MILLISECOND=796,ZONE_OFFSET=?,DST_OFFSET=?]', ts_hour=None, ts_day=None, ts_weekofyear=None, ts_month=None, ts_weekday=None),\n",
       " Row(ts_timestamp='java.util.GregorianCalendar[time=?,areFieldsSet=false,areAllFieldsSet=false,lenient=true,zone=sun.util.calendar.ZoneInfo[id=\"Etc/UTC\",offset=0,dstSavings=0,useDaylight=false,transitions=0,lastRule=null],firstDayOfWeek=1,minimalDaysInFirstWeek=1,ERA=?,YEAR=2018,MONTH=10,WEEK_OF_YEAR=?,WEEK_OF_MONTH=?,DAY_OF_MONTH=28,DAY_OF_YEAR=?,DAY_OF_WEEK=?,DAY_OF_WEEK_IN_MONTH=?,AM_PM=0,HOUR=0,HOUR_OF_DAY=0,MINUTE=9,SECOND=38,MILLISECOND=796,ZONE_OFFSET=?,DST_OFFSET=?]', ts_hour=None, ts_day=None, ts_weekofyear=None, ts_month=None, ts_weekday=None)]"
      ]
     },
     "execution_count": 28,
     "metadata": {},
     "output_type": "execute_result"
    }
   ],
   "source": [
    "time_table.take(3)"
   ]
  },
  {
   "cell_type": "code",
   "execution_count": 29,
   "metadata": {
    "editable": true
   },
   "outputs": [],
   "source": [
    "df_song.createOrReplaceTempView('songs_staging')\n",
    "df_log_next_song.createOrReplaceTempView('logs_staging')"
   ]
  },
  {
   "cell_type": "code",
   "execution_count": 30,
   "metadata": {
    "editable": true
   },
   "outputs": [
    {
     "name": "stdout",
     "output_type": "stream",
     "text": [
      "root\n",
      " |-- artist_id: string (nullable = true)\n",
      " |-- artist_latitude: double (nullable = true)\n",
      " |-- artist_location: string (nullable = true)\n",
      " |-- artist_longitude: double (nullable = true)\n",
      " |-- artist_name: string (nullable = true)\n",
      " |-- duration: double (nullable = true)\n",
      " |-- num_songs: long (nullable = true)\n",
      " |-- song_id: string (nullable = true)\n",
      " |-- title: string (nullable = true)\n",
      " |-- year: long (nullable = true)\n",
      "\n"
     ]
    }
   ],
   "source": [
    "df_song.printSchema()"
   ]
  },
  {
   "cell_type": "code",
   "execution_count": 31,
   "metadata": {
    "editable": true
   },
   "outputs": [
    {
     "name": "stdout",
     "output_type": "stream",
     "text": [
      "root\n",
      " |-- artist: string (nullable = true)\n",
      " |-- auth: string (nullable = true)\n",
      " |-- firstName: string (nullable = true)\n",
      " |-- gender: string (nullable = true)\n",
      " |-- itemInSession: long (nullable = true)\n",
      " |-- lastName: string (nullable = true)\n",
      " |-- length: double (nullable = true)\n",
      " |-- level: string (nullable = true)\n",
      " |-- location: string (nullable = true)\n",
      " |-- method: string (nullable = true)\n",
      " |-- page: string (nullable = true)\n",
      " |-- registration: double (nullable = true)\n",
      " |-- sessionId: long (nullable = true)\n",
      " |-- song: string (nullable = true)\n",
      " |-- status: long (nullable = true)\n",
      " |-- ts: long (nullable = true)\n",
      " |-- userAgent: string (nullable = true)\n",
      " |-- userId: string (nullable = true)\n",
      " |-- ts_timestamp: string (nullable = true)\n",
      " |-- ts_year: integer (nullable = true)\n",
      " |-- ts_month: integer (nullable = true)\n",
      " |-- ts_day: integer (nullable = true)\n",
      " |-- ts_weekofyear: integer (nullable = true)\n",
      " |-- ts_hour: integer (nullable = true)\n",
      " |-- ts_weekday: integer (nullable = true)\n",
      "\n"
     ]
    }
   ],
   "source": [
    "df_log_next_song.printSchema()"
   ]
  },
  {
   "cell_type": "code",
   "execution_count": 32,
   "metadata": {
    "editable": true
   },
   "outputs": [
    {
     "data": {
      "text/plain": [
       "DataFrame[registration: double]"
      ]
     },
     "execution_count": 32,
     "metadata": {},
     "output_type": "execute_result"
    }
   ],
   "source": [
    "spark.sql(\"\"\"\n",
    "            select \n",
    "                logs_staging.registration\n",
    "            FROM logs_staging as logs_staging\n",
    "            LEFT JOIN songs_staging as songs_staging\n",
    "            on logs_staging.artist=songs_staging.artist_name\n",
    "        \"\"\")"
   ]
  },
  {
   "cell_type": "code",
   "execution_count": 39,
   "metadata": {
    "editable": true
   },
   "outputs": [],
   "source": [
    "songplays_table = spark.sql(\"\"\"\n",
    "            select \n",
    "                logs_staging.registration,\n",
    "                logs_staging.userId,\n",
    "                logs_staging.level,\n",
    "                songs_staging.song_id,\n",
    "                songs_staging.artist_id,\n",
    "                logs_staging.sessionId,\n",
    "                logs_staging.location,\n",
    "                logs_staging.userAgent,\n",
    "                logs_staging.ts_year as year,\n",
    "                logs_staging.ts_month as month\n",
    "            from logs_staging\n",
    "            left join songs_staging\n",
    "            on logs_staging.artist=songs_staging.artist_name\n",
    "        \"\"\")"
   ]
  },
  {
   "cell_type": "code",
   "execution_count": 40,
   "metadata": {
    "editable": true
   },
   "outputs": [
    {
     "data": {
      "text/plain": [
       "DataFrame[registration: double, userId: string, level: string, song_id: string, artist_id: string, sessionId: bigint, location: string, userAgent: string, year: int, month: int]"
      ]
     },
     "execution_count": 40,
     "metadata": {},
     "output_type": "execute_result"
    }
   ],
   "source": [
    "songplays_table"
   ]
  },
  {
   "cell_type": "code",
   "execution_count": 41,
   "metadata": {
    "editable": true
   },
   "outputs": [],
   "source": [
    "songplays_table.write.mode('overwrite').partitionBy(\"year\",\"month\").parquet('output/songplay.parquet')"
   ]
  },
  {
   "cell_type": "code",
   "execution_count": null,
   "metadata": {
    "editable": true
   },
   "outputs": [],
   "source": []
  }
 ],
 "metadata": {
  "kernelspec": {
   "display_name": "Python 3",
   "language": "python",
   "name": "python3"
  },
  "language_info": {
   "codemirror_mode": {
    "name": "ipython",
    "version": 3
   },
   "file_extension": ".py",
   "mimetype": "text/x-python",
   "name": "python",
   "nbconvert_exporter": "python",
   "pygments_lexer": "ipython3",
   "version": "3.6.3"
  }
 },
 "nbformat": 4,
 "nbformat_minor": 4
}
